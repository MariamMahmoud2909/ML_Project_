{
 "cells": [
  {
   "cell_type": "code",
   "execution_count": 23,
   "metadata": {
    "ExecuteTime": {
     "end_time": "2023-12-14T10:31:10.472690980Z",
     "start_time": "2023-12-14T10:31:09.003950900Z"
    }
   },
   "outputs": [],
   "source": [
    "#Import libraries \n",
    "import os\n",
    "import cv2\n",
    "import numpy as np\n",
    "from skimage.io import imread\n",
    "from sklearn.linear_model import LogisticRegression\n",
    "from sklearn.model_selection import train_test_split\n",
    "from sklearn.preprocessing import StandardScaler\n",
    "from sklearn.metrics import accuracy_score, confusion_matrix, roc_curve, roc_auc_score, log_loss\n",
    "import matplotlib.pyplot as plt\n",
    "from skimage.feature import hog\n",
    "from sklearn.preprocessing import LabelEncoder\n",
    "from sklearn import metrics"
   ]
  },
  {
   "cell_type": "markdown",
   "metadata": {},
   "source": [
    "Start Image and labels reading process \n"
   ]
  },
  {
   "cell_type": "code",
   "execution_count": 24,
   "metadata": {
    "ExecuteTime": {
     "end_time": "2023-12-14T10:40:29.402707851Z",
     "start_time": "2023-12-14T10:40:29.361198441Z"
    }
   },
   "outputs": [],
   "source": [
    "def ReadImagesLabels(machineproject_path, str):\n",
    "    # Construct the paths to the images and labels folders\n",
    "    images_folder = os.path.join(machineproject_path, str, \"images\")\n",
    "    labels_folder = os.path.join(machineproject_path, str, \"labels\")\n",
    "\n",
    "    # Initialize lists for images and labels and hog features\n",
    "    image_list = []\n",
    "    label_list = []\n",
    "    \n",
    "    # Iterate through label files and check the conditions\n",
    "    for label_file in os.listdir(labels_folder):\n",
    "        label_file_path = os.path.join(labels_folder, label_file)\n",
    "\n",
    "        # Check if the file is not empty\n",
    "        if os.path.getsize(label_file_path) > 0:\n",
    "            with open(label_file_path, \"r\") as label_file:\n",
    "                # Read the first character of the label\n",
    "                first_letter = label_file.read(1)\n",
    "\n",
    "                # Check conditions based on the first letter\n",
    "                if first_letter == '2':\n",
    "                    label_list.append(0)  # Encoding 'Fresh' as 0\n",
    "                elif first_letter == '3':\n",
    "                    label_list.append(1)  # Encoding 'Rotten' as 1\n",
    "                else:\n",
    "                    label_list.append(-1)  # Encoding 'Unknown' as -1\n",
    "                \n",
    "\n",
    "            # Append the image filename to the image list\n",
    "            image_filename = label_file.name.replace(\".txt\", \".jpg\")  # Assuming image files have .jpg extension\n",
    "            image_path = os.path.join(images_folder, image_filename)\n",
    "            image_list.append(image_path)\n",
    "\n",
    "\n",
    "        else:\n",
    "            label_list.append(-1) \n",
    "\n",
    "    return image_list, label_list"
   ]
  },
  {
   "cell_type": "markdown",
   "metadata": {},
   "source": [
    "Start extracte features from images using SIFT algorithm \n"
   ]
  },
  {
   "cell_type": "code",
   "execution_count": 25,
   "metadata": {
    "ExecuteTime": {
     "end_time": "2023-12-14T10:40:30.441616515Z",
     "start_time": "2023-12-14T10:40:30.432704436Z"
    }
   },
   "outputs": [],
   "source": [
    "def extract_sift_features(images):\n",
    "    sift = cv2.SIFT_create()\n",
    "    features = []\n",
    "\n",
    "    for label_file_path in images:\n",
    "        try:\n",
    "            # Extract the image filename from the label file path\n",
    "            image_filename = os.path.basename(label_file_path).replace(\".txt\", \".jpg\")\n",
    "\n",
    "            # Correct the folder name to \"images\" in the path\n",
    "            corrected_image_path = label_file_path.replace(\"labels\", \"images\").replace(image_filename, \"\")\n",
    "\n",
    "            # Remove any extra \"images\" folder in the path\n",
    "            corrected_image_path = corrected_image_path.replace(\"\\\\images\", \"\\\\images\")\n",
    "\n",
    "            # Construct the correct path to the image in the \"images\" folder\n",
    "            image_path = os.path.join(corrected_image_path, image_filename)\n",
    "\n",
    "            #read the img in grayscale\n",
    "            img = cv2.imread(image_path, cv2.IMREAD_GRAYSCALE)\n",
    "\n",
    "            # Check if the image is loaded successfully\n",
    "            if img is None:\n",
    "                print(f\"Error loading image: {image_path}\")\n",
    "                features.append(np.array([]))\n",
    "                continue\n",
    "\n",
    "            # Check if the image is not empty\n",
    "            if img.size == 0:\n",
    "                print(f\"Empty image: {image_path}\")\n",
    "                features.append(np.array([]))\n",
    "                continue\n",
    "\n",
    "            # Detect keypoints and compute descriptors using SIFT\n",
    "            keypoints, descriptors = sift.detectAndCompute(img, None)\n",
    "\n",
    "            # Check if keypoints and descriptors are obtained\n",
    "            if descriptors is not None and descriptors.shape[0] > 0:\n",
    "                # Pad or truncate descriptors to a fixed size (128)\n",
    "                descriptor_size = 128\n",
    "                # If the number of descriptors is less than the desired size\n",
    "                # Pad the descriptors array with zeros to match the desired size\n",
    "                if descriptors.shape[0] < descriptor_size:\n",
    "                    descriptors = np.pad(descriptors, ((0, descriptor_size - descriptors.shape[0]), (0, 0)))\n",
    "                # If the number of descriptors is greater than the desired size\n",
    "                # delete from the descriptors array to keep only the desired number of descriptors\n",
    "                elif descriptors.shape[0] > descriptor_size:\n",
    "                    descriptors = descriptors[:descriptor_size, :]\n",
    "                # Flatten the descriptors and add them to the features list\n",
    "                features.append(descriptors.flatten())\n",
    "            else:\n",
    "                print(f\"No keypoints or descriptors found for image: {image_path}\")\n",
    "                features.append(np.zeros(128))  # Add zeros as a placeholder for images with no descriptors\n",
    "\n",
    "        except Exception as e:\n",
    "            print(f\"Error processing image: {image_path}, Exception: {str(e)}\")\n",
    "            features.append(np.zeros(128))  # Add zeros as a placeholder for images with processing errors\n",
    "\n",
    "    return np.array(features)"
   ]
  },
  {
   "cell_type": "markdown",
   "metadata": {},
   "source": [
    "Start removing extra / unknown / empty labels and images \n"
   ]
  },
  {
   "cell_type": "code",
   "execution_count": 26,
   "metadata": {
    "ExecuteTime": {
     "end_time": "2023-12-14T10:40:31.869899818Z",
     "start_time": "2023-12-14T10:40:31.851750420Z"
    }
   },
   "outputs": [],
   "source": [
    "#Function to remove unknown images with it's labels \n",
    "      \n",
    "def removeunknown(image_list, label_list):\n",
    "    indices_to_remove = [i for i, label in enumerate(label_list) if label == -1]\n",
    "\n",
    "    # Remove elements from the end to avoid index errors\n",
    "    for index in reversed(indices_to_remove):\n",
    "        if index < len(image_list):\n",
    "            label_list.pop(index)\n",
    "            image_list.pop(index)"
   ]
  },
  {
   "cell_type": "code",
   "execution_count": 27,
   "metadata": {
    "ExecuteTime": {
     "end_time": "2023-12-14T10:40:33.896622796Z",
     "start_time": "2023-12-14T10:40:33.867147746Z"
    }
   },
   "outputs": [],
   "source": [
    "machineproject_path = 'E:\\\\.college\\\\ML_Project\\\\TomatoDetection' "
   ]
  },
  {
   "cell_type": "code",
   "execution_count": 28,
   "metadata": {
    "ExecuteTime": {
     "end_time": "2023-12-14T10:40:39.453551845Z",
     "start_time": "2023-12-14T10:40:39.331403073Z"
    }
   },
   "outputs": [],
   "source": [
    "#read the train images with labels \n",
    "xtrain, ytrain = ReadImagesLabels(machineproject_path, 'train')\n",
    "removeunknown(xtrain, ytrain)\n",
    "y_train_encoded = np.array(ytrain)"
   ]
  },
  {
   "cell_type": "code",
   "execution_count": 29,
   "metadata": {
    "ExecuteTime": {
     "end_time": "2023-12-14T10:40:40.258531904Z",
     "start_time": "2023-12-14T10:40:40.231817297Z"
    }
   },
   "outputs": [],
   "source": [
    "#read the test images with labels\n",
    "xtest, ytest = ReadImagesLabels(machineproject_path, 'test')\n",
    "removeunknown(xtest,ytest)\n",
    "y_test_encoded = np.array(ytest)"
   ]
  },
  {
   "cell_type": "code",
   "execution_count": 30,
   "metadata": {
    "ExecuteTime": {
     "end_time": "2023-12-14T10:40:45.364780980Z",
     "start_time": "2023-12-14T10:40:45.295972507Z"
    }
   },
   "outputs": [
    {
     "data": {
      "text/plain": [
       "'\\nfor image, label in zip(xtrain, ytrain):\\n    print(f\"Image: {image}, Label: {label}\")\\n'"
      ]
     },
     "execution_count": 30,
     "metadata": {},
     "output_type": "execute_result"
    }
   ],
   "source": [
    "#print the results after removing unknown and empty data\n",
    "\"\"\"\n",
    "for image, label in zip(xtrain, ytrain):\n",
    "    print(f\"Image: {image}, Label: {label}\")\n",
    "\"\"\""
   ]
  },
  {
   "cell_type": "code",
   "execution_count": 31,
   "metadata": {
    "ExecuteTime": {
     "end_time": "2023-12-14T10:43:23.228202492Z",
     "start_time": "2023-12-14T10:40:46.847694610Z"
    }
   },
   "outputs": [],
   "source": [
    "#implement sift algorithm to extract features from images \n",
    "image_features = extract_sift_features(xtrain)\n",
    "test_features = extract_sift_features(xtest)"
   ]
  },
  {
   "cell_type": "code",
   "execution_count": 32,
   "metadata": {
    "ExecuteTime": {
     "end_time": "2023-12-14T10:43:31.862535502Z",
     "start_time": "2023-12-14T10:43:31.729482197Z"
    }
   },
   "outputs": [
    {
     "data": {
      "text/plain": [
       "'for image, label, feature in zip(xtrain, ytrain, image_features):\\n    print(f\"Image: {image}, Label: {label}, Feature: {feature}\")'"
      ]
     },
     "execution_count": 32,
     "metadata": {},
     "output_type": "execute_result"
    }
   ],
   "source": [
    "#print results after sift algorithm\n",
    "\"\"\"for image, label, feature in zip(xtrain, ytrain, image_features):\n",
    "    print(f\"Image: {image}, Label: {label}, Feature: {feature}\")\"\"\""
   ]
  },
  {
   "cell_type": "markdown",
   "metadata": {},
   "source": [
    "Start Scaling process \n"
   ]
  },
  {
   "cell_type": "code",
   "execution_count": 33,
   "metadata": {
    "ExecuteTime": {
     "end_time": "2023-12-14T10:52:18.796604372Z",
     "start_time": "2023-12-14T10:52:17.880273703Z"
    }
   },
   "outputs": [],
   "source": [
    "# Scaling Features \n",
    "scaler = StandardScaler()\n",
    "X_train_scaled = scaler.fit_transform(image_features)\n",
    "X_test_scaled = scaler.transform(test_features)"
   ]
  },
  {
   "cell_type": "code",
   "execution_count": 34,
   "metadata": {
    "ExecuteTime": {
     "end_time": "2023-12-14T10:52:41.280108848Z",
     "start_time": "2023-12-14T10:52:24.527876017Z"
    }
   },
   "outputs": [
    {
     "name": "stdout",
     "output_type": "stream",
     "text": [
      "Shape of X_train_scaled: (5460, 16384)\n",
      "Shape of y_train_encoded: (5460,)\n"
     ]
    }
   ],
   "source": [
    "# Check if the size of x_train != size of y_train then drop extra label \n",
    "if X_train_scaled.shape[0] != y_train_encoded.shape[0]:\n",
    "    y_train_encoded = y_train_encoded[:-1]\n",
    "\n",
    "# Check the shape of X_train_scaled and y_train_encoded\n",
    "print(\"Shape of X_train_scaled:\", X_train_scaled.shape)\n",
    "print(\"Shape of y_train_encoded:\", y_train_encoded.shape)"
   ]
  },
  {
   "cell_type": "code",
   "execution_count": 35,
   "metadata": {},
   "outputs": [
    {
     "name": "stdout",
     "output_type": "stream",
     "text": [
      "Shape of X_test_scaled: (1104, 16384)\n",
      "Shape of y_test_encoded: (1104,)\n"
     ]
    }
   ],
   "source": [
    "# Check if the size of x_test != size of y_test then drop extra label \n",
    "if X_test_scaled.shape[0] != y_test_encoded.shape[0]:\n",
    "    y_test_encoded = y_test_encoded[:-1]\n",
    "\n",
    "# Check the shape of X_test_scaled and y_test_encoded\n",
    "print(\"Shape of X_test_scaled:\",X_test_scaled.shape)\n",
    "print(\"Shape of y_test_encoded:\", y_test_encoded.shape)"
   ]
  },
  {
   "cell_type": "markdown",
   "metadata": {},
   "source": [
    "Start LogisticRegression \n"
   ]
  },
  {
   "cell_type": "code",
   "execution_count": 36,
   "metadata": {},
   "outputs": [],
   "source": [
    "# Train the Logistic Regression model\n",
    "model = LogisticRegression(random_state=42, max_iter=1000)\n",
    "\n",
    "try:\n",
    "    model.fit(X_train_scaled, y_train_encoded)\n",
    "except ValueError as e:\n",
    "    print(\"Error:\", e)"
   ]
  },
  {
   "cell_type": "code",
   "execution_count": 37,
   "metadata": {
    "ExecuteTime": {
     "end_time": "2023-12-14T10:52:49.240276292Z",
     "start_time": "2023-12-14T10:52:48.859090090Z"
    }
   },
   "outputs": [],
   "source": [
    "# Predict the target values for the training / testing /val set using the trained model\n",
    "y_pred_train = model.predict(X_train_scaled)\n",
    "y_pred_test = model.predict(X_test_scaled)"
   ]
  },
  {
   "cell_type": "code",
   "execution_count": 38,
   "metadata": {
    "ExecuteTime": {
     "end_time": "2023-12-14T10:58:02.593186636Z",
     "start_time": "2023-12-14T10:58:02.534085855Z"
    }
   },
   "outputs": [],
   "source": [
    "# For training set\n",
    "if len(y_pred_train) != len(ytrain):\n",
    "    ytrain = ytrain[:-1]  # Adjust the length of ytrain\n",
    "\n",
    "# For testing set\n",
    "if len(y_pred_test) != len(ytest):\n",
    "    ytest = ytest[:-1]  # Adjust the length of ytest\n"
   ]
  },
  {
   "cell_type": "markdown",
   "metadata": {},
   "source": [
    "Start Evaluation of the model\n"
   ]
  },
  {
   "cell_type": "code",
   "execution_count": 39,
   "metadata": {},
   "outputs": [
    {
     "name": "stdout",
     "output_type": "stream",
     "text": [
      "Accuracy on Training Set: 1.0\n",
      "Accuracy on Testing Set: 0.5244565217391305\n"
     ]
    }
   ],
   "source": [
    "#Evaluate the model \n",
    "accuracy_train = accuracy_score(ytrain, y_pred_train)\n",
    "accuracy_test = accuracy_score(ytest, y_pred_test)\n",
    "\n",
    "print(f\"Accuracy on Training Set: {accuracy_train}\")\n",
    "print(f\"Accuracy on Testing Set: {accuracy_test}\")"
   ]
  },
  {
   "cell_type": "code",
   "execution_count": 40,
   "metadata": {},
   "outputs": [
    {
     "data": {
      "image/png": "[encoded data removed]",
      "text/plain": [
       "<Figure size 640x480 with 2 Axes>"
      ]
     },
     "metadata": {},
     "output_type": "display_data"
    }
   ],
   "source": [
    "confusion_matrix = metrics.confusion_matrix(ytest, y_pred_test)\n",
    "\n",
    "cm_display = metrics.ConfusionMatrixDisplay(confusion_matrix = confusion_matrix, display_labels = [False, True])\n",
    "\n",
    "cm_display.plot()\n",
    "plt.show()"
   ]
  },
  {
   "cell_type": "code",
   "execution_count": 41,
   "metadata": {},
   "outputs": [
    {
     "data": {
      "image/png": "[encoded data removed]",
      "text/plain": [
       "<Figure size 640x480 with 1 Axes>"
      ]
     },
     "metadata": {},
     "output_type": "display_data"
    }
   ],
   "source": [
    "y_test_prob = model.predict_proba(X_test_scaled)[:, 1]\n",
    "fpr, tpr, thresholds = roc_curve(ytest, y_test_prob)\n",
    "auc_score = roc_auc_score(ytest, y_test_prob)\n",
    "\n",
    "plt.plot(fpr, tpr)\n",
    "plt.xlabel('False Positive Rate')\n",
    "plt.ylabel('True Positive Rate')\n",
    "plt.title('ROC Curve (AUC = {:.2f})'.format(auc_score))\n",
    "plt.show()"
   ]
  }
 ],
 "metadata": {
  "kernelspec": {
   "display_name": "Python 3",
   "language": "python",
   "name": "python3"
  },
  "language_info": {
   "codemirror_mode": {
    "name": "ipython",
    "version": 3
   },
   "file_extension": ".py",
   "mimetype": "text/x-python",
   "name": "python",
   "nbconvert_exporter": "python",
   "pygments_lexer": "ipython3",
   "version": "3.10.7"
  }
 },
 "nbformat": 4,
 "nbformat_minor": 2
}
